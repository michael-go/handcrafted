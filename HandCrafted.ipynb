{
 "cells": [
  {
   "cell_type": "code",
   "execution_count": 1,
   "id": "bf4e37fa-8d59-4106-92d1-8f956647aba2",
   "metadata": {},
   "outputs": [
    {
     "name": "stdout",
     "output_type": "stream",
     "text": [
      "Requirement already satisfied: matplotlib in /Users/ben/miniconda3/lib/python3.10/site-packages (3.7.1)\n",
      "Requirement already satisfied: kiwisolver>=1.0.1 in /Users/ben/miniconda3/lib/python3.10/site-packages (from matplotlib) (1.4.4)\n",
      "Requirement already satisfied: numpy>=1.20 in /Users/ben/miniconda3/lib/python3.10/site-packages (from matplotlib) (1.24.3)\n",
      "Requirement already satisfied: pyparsing>=2.3.1 in /Users/ben/miniconda3/lib/python3.10/site-packages (from matplotlib) (3.0.9)\n",
      "Requirement already satisfied: pillow>=6.2.0 in /Users/ben/miniconda3/lib/python3.10/site-packages (from matplotlib) (9.5.0)\n",
      "Requirement already satisfied: cycler>=0.10 in /Users/ben/miniconda3/lib/python3.10/site-packages (from matplotlib) (0.11.0)\n",
      "Requirement already satisfied: python-dateutil>=2.7 in /Users/ben/miniconda3/lib/python3.10/site-packages (from matplotlib) (2.8.2)\n",
      "Requirement already satisfied: fonttools>=4.22.0 in /Users/ben/miniconda3/lib/python3.10/site-packages (from matplotlib) (4.39.3)\n",
      "Requirement already satisfied: contourpy>=1.0.1 in /Users/ben/miniconda3/lib/python3.10/site-packages (from matplotlib) (1.0.7)\n",
      "Requirement already satisfied: packaging>=20.0 in /Users/ben/miniconda3/lib/python3.10/site-packages (from matplotlib) (23.0)\n",
      "Requirement already satisfied: six>=1.5 in /Users/ben/miniconda3/lib/python3.10/site-packages (from python-dateutil>=2.7->matplotlib) (1.16.0)\n"
     ]
    },
    {
     "name": "stderr",
     "output_type": "stream",
     "text": [
      "/Users/ben/miniconda3/lib/python3.10/site-packages/tqdm/auto.py:22: TqdmWarning: IProgress not found. Please update jupyter and ipywidgets. See https://ipywidgets.readthedocs.io/en/stable/user_install.html\n",
      "  from .autonotebook import tqdm as notebook_tqdm\n"
     ]
    }
   ],
   "source": [
    "!pip install matplotlib\n",
    "import torch\n",
    "import torch.nn.functional as F\n",
    "import math\n",
    "import torch.nn\n",
    "import matplotlib.pyplot as plt\n",
    "import numpy as np"
   ]
  },
  {
   "cell_type": "code",
   "execution_count": 4,
   "id": "0161596a-a60d-4d0f-87a2-f9d9e1f656d0",
   "metadata": {},
   "outputs": [],
   "source": [
    "def plot_tensor(tensor):\n",
    "    fig, ax = plt.subplots()\n",
    "    im = ax.imshow(tensor, cmap='viridis') # You can use other colormaps like 'plasma', 'inferno', 'magma', etc.\n",
    "    plt.show()\n",
    "\n",
    "class Register(object):\n",
    "    def __init__(self, name, size):\n",
    "        self.name = name\n",
    "        self.size = size\n",
    "        self.offset = None\n",
    "\n",
    "class Embedding(object):\n",
    "    def __init__(self, tokens: list[str], registers: list[Register]):\n",
    "        self.tokens = tokens\n",
    "        self.token_map = { t: i for i,t in enumerate(tokens) }\n",
    "        self.registers = registers\n",
    "        self.register_map = {}\n",
    "        self.register_size = 0\n",
    "        \n",
    "        if len(registers) == 0 or registers[0].name != 'pos':\n",
    "            raise Exception(\"First register must be 'pos'\") \n",
    "        \n",
    "        offset = len(tokens)\n",
    "        for reg in registers:\n",
    "            reg.offset = offset\n",
    "            offset += reg.size\n",
    "            self.register_size += reg.size\n",
    "            self.register_map[reg.name] = reg\n",
    "            \n",
    "        self.dim = len(tokens) + self.register_size\n",
    "\n",
    "    def tokenize(self, string: str):\n",
    "        return F.one_hot(torch.tensor([self.token_map[c] for c in string]), num_classes=len(self.tokens)).float()\n",
    "\n",
    "    def embed(self, sequence):\n",
    "        # We want to create additional space to store the registers\n",
    "        extension_tensor = torch.zeros(*sequence.shape[:-1], self.register_size)\n",
    "\n",
    "        # Encode position in the first extra embedding dimension\n",
    "        for i in range(sequence.shape[0]):\n",
    "            extension_tensor[i, 0] = math.sin(i*(2*math.pi)/100)\n",
    "            extension_tensor[i, 1] = math.cos(i*(2*math.pi)/100)\n",
    "\n",
    "        sequence = torch.cat((sequence, extension_tensor), dim=-1)\n",
    "\n",
    "        return sequence\n",
    "\n",
    "class AttentionLayer(object):\n",
    "    def __init__(self, instruction):\n",
    "        self.instruction = instruction\n",
    "        \n",
    "    def attend(self, seq):\n",
    "        query = seq @ self.instruction.query\n",
    "        key = seq @ self.instruction.key\n",
    "        value = seq @ self.instruction.value\n",
    "\n",
    "        causal_mask = torch.triu(torch.ones(seq.shape[0], seq.shape[0]), diagonal=1)*-1e10\n",
    "        norm = np.sqrt(seq.shape[-1])\n",
    "        \n",
    "        kq = torch.nn.Softmax(1)(query @ key.T / norm + causal_mask)\n",
    "        print('attention query')\n",
    "        #plot_tensor(query)\n",
    "        #print('key')\n",
    "        #plot_tensor(key)\n",
    "        #plot_tensor(query @ key.T)\n",
    "        plot_tensor(kq)\n",
    "        #print(query @ key.T)\n",
    "                    \n",
    "        return (seq + kq @ value)\n",
    "    \n",
    "class MLPLayer(object):\n",
    "    def __init__(self, instruction):\n",
    "        self.instruction = instruction\n",
    "        \n",
    "    def forward(self, seq):\n",
    "        return torch.nn.GELU()(seq @ self.instruction.first_weights + self.instruction.first_bias) @ self.instruction.second_weights + self.instruction.second_bias\n",
    "      \n",
    "tokens = list('0123456789+=!')\n",
    "pos = Register('pos', 2)\n",
    "plus_pos = Register('plus_pos', 2)\n",
    "equal_pos = Register('equal_pos', 2)\n",
    "left_digit = Register('left', len(tokens))\n",
    "right_digit = Register('right', len(tokens))\n",
    "\n",
    "embedding = Embedding(tokens, [pos, plus_pos, equal_pos, left_digit, right_digit])\n",
    "        \n",
    "class FindAndStore(object):\n",
    "    def __init__(self, embedding: Embedding, token: str, register: Register):\n",
    "        pos_reg = embedding.register_map['pos']\n",
    "        \n",
    "        # No matter the current token, we attend to if the attended token is the given token\n",
    "        token_select = torch.zeros(embedding.dim, embedding.dim) - 1e10\n",
    "        token_select[:, int(embedding.token_map[token])] = 1e10\n",
    "\n",
    "        position_select = torch.zeros(embedding.dim, embedding.dim)\n",
    "        position_select[pos_reg.offset, register.offset] = 1.0\n",
    "        position_select[pos_reg.offset + 1, register.offset + 1] = 1.0\n",
    "        \n",
    "        self.key = torch.eye(embedding.dim)\n",
    "        self.query = token_select\n",
    "        self.value = position_select\n",
    "\n",
    "ex = embedding.embed(embedding.tokenize('10+10=2111')) \n",
    "        \n",
    "class GetRelativeToken(object):\n",
    "    def __init__(self, embedding: Embedding, pos_reg: Register, steps: int, out: Register):\n",
    "        tpos_reg = embedding.register_map['pos']\n",
    "        \n",
    "        position_select = torch.zeros(embedding.dim, embedding.dim)\n",
    "        position_select[tpos_reg.offset, tpos_reg.offset] = 1e10\n",
    "        position_select[tpos_reg.offset + 1, tpos_reg.offset + 1] = 1e10\n",
    "\n",
    "        i = -steps\n",
    "        sin = math.sin(i*(2*math.pi)/100)*1\n",
    "        cos = math.cos(i*(2*math.pi)/100)*1\n",
    "\n",
    "        rotation = torch.zeros(embedding.dim, embedding.dim)\n",
    "        rotation[pos_reg.offset, tpos_reg.offset] = cos\n",
    "        rotation[pos_reg.offset + 1, tpos_reg.offset] = -sin\n",
    "        rotation[pos_reg.offset, tpos_reg.offset + 1] = sin\n",
    "        rotation[pos_reg.offset + 1, tpos_reg.offset + 1] = cos\n",
    "        #plot_tensor(rotation)\n",
    "        \n",
    "        token_copy = torch.zeros(embedding.dim, embedding.dim)\n",
    "        for i in range(len(embedding.tokens)):\n",
    "            token_copy[i, i + out.offset] = 1.0\n",
    "            \n",
    "        self.query = rotation\n",
    "        self.key = position_select\n",
    "        self.value = token_copy\n",
    "                "
   ]
  },
  {
   "cell_type": "code",
   "execution_count": 5,
   "id": "d9700648-a51f-4123-a487-bd8f6dc2ce8a",
   "metadata": {},
   "outputs": [
    {
     "name": "stdout",
     "output_type": "stream",
     "text": [
      "attention query\n"
     ]
    },
    {
     "data": {
      "image/png": "[encoded data removed]",
      "text/plain": [
       "<Figure size 640x480 with 1 Axes>"
      ]
     },
     "metadata": {},
     "output_type": "display_data"
    },
    {
     "name": "stdout",
     "output_type": "stream",
     "text": [
      "attention query\n"
     ]
    },
    {
     "data": {
      "image/png": "[encoded data removed]",
      "text/plain": [
       "<Figure size 640x480 with 1 Axes>"
      ]
     },
     "metadata": {},
     "output_type": "display_data"
    },
    {
     "data": {
      "image/png": "[encoded data removed]",
      "text/plain": [
       "<Figure size 640x480 with 1 Axes>"
      ]
     },
     "metadata": {},
     "output_type": "display_data"
    },
    {
     "name": "stdout",
     "output_type": "stream",
     "text": [
      "attention query\n"
     ]
    },
    {
     "data": {
      "image/png": "[encoded data removed]",
      "text/plain": [
       "<Figure size 640x480 with 1 Axes>"
      ]
     },
     "metadata": {},
     "output_type": "display_data"
    },
    {
     "name": "stdout",
     "output_type": "stream",
     "text": [
      "attention query\n"
     ]
    },
    {
     "data": {
      "image/png": "[encoded data removed]",
      "text/plain": [
       "<Figure size 640x480 with 1 Axes>"
      ]
     },
     "metadata": {},
     "output_type": "display_data"
    },
    {
     "data": {
      "image/png": "[encoded data removed]",
      "text/plain": [
       "<Figure size 640x480 with 1 Axes>"
      ]
     },
     "metadata": {},
     "output_type": "display_data"
    }
   ],
   "source": [
    "find_plus = AttentionLayer(FindAndStore(embedding, '+', plus_pos))\n",
    "before_plus = AttentionLayer(GetRelativeToken(embedding, plus_pos, -1, left_digit))\n",
    "\n",
    "find_equal = AttentionLayer(FindAndStore(embedding, '=', equal_pos))\n",
    "before_equal = AttentionLayer(GetRelativeToken(embedding, equal_pos, -1, right_digit))\n",
    "\n",
    "x = embedding.embed(embedding.tokenize('14+12=211133333'))\n",
    "x = find_plus.attend(x)\n",
    "x = find_equal.attend(x)\n",
    "plot_tensor(x)\n",
    "\n",
    "x = before_plus.attend(x)\n",
    "x = before_equal.attend(x)\n",
    "\n",
    "plot_tensor(x)\n",
    "#x = distance_to_plus.attend(x)\n",
    "#plot_tensor(x)"
   ]
  }
 ],
 "metadata": {
  "kernelspec": {
   "display_name": "Python 3 (ipykernel)",
   "language": "python",
   "name": "python3"
  },
  "language_info": {
   "codemirror_mode": {
    "name": "ipython",
    "version": 3
   },
   "file_extension": ".py",
   "mimetype": "text/x-python",
   "name": "python",
   "nbconvert_exporter": "python",
   "pygments_lexer": "ipython3",
   "version": "3.10.9"
  }
 },
 "nbformat": 4,
 "nbformat_minor": 5
}
