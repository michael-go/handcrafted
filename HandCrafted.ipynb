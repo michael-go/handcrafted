{
 "cells": [
  {
   "cell_type": "markdown",
   "id": "b92aa840",
   "metadata": {
    "colab_type": "text",
    "id": "view-in-github"
   },
   "source": [
    "<a href=\"https://colab.research.google.com/github/newhouseb/handcrafted/blob/main/HandCrafted.ipynb\" target=\"_parent\"><img src=\"https://colab.research.google.com/assets/colab-badge.svg\" alt=\"Open In Colab\"/></a>"
   ]
  },
  {
   "cell_type": "markdown",
   "id": "871d6a45-db2a-4dc1-bb46-94b3fd3d05ee",
   "metadata": {
    "tags": []
   },
   "source": [
    "> _What I cannot create, I do not understand_ - Richard Feynmann\n",
    "\n",
    "**TL;DR: I explain a transformer as a kind of \"virtual machine\" and then choose weights to make one execute long-form addition the way humans do.**\n",
    "\n",
    "Quick Nav (only works on Google Colab, click the above link to \"Open in Colab\" if you're on GitHub first):\n",
    "\n",
    "- [Transformers as virtual machines](#Transformers-as-Virtual-Machines)\n",
    "- [Transformer machine state](#Virtual-Machine-State)\n",
    "- [Instruction types](#Virtual-Machine-Instructions)\n",
    "- [Attention Instructions](#Attention-Layers)\n",
    "- [Fully Connected Instructions](#Fully-Connected-Instructions)\n",
    "- [The Naive Algorithm](#Our-First-Algorithm)\n",
    "- [Reflections](#Reflections)\n",
    "- [Further Reading](#Further-Reading)\n",
    "\n",
    "# Hand-Crafted Transformers\n",
    "\n",
    "People say that we (society) have \"no idea\" how large language models work. And while we _did_ create these models, we only designed their architectures and their infrastructure. We didn't choose the weights: some variation of gradient descent did.\n",
    "\n",
    "_**But what if we did?**_\n",
    "\n",
    "This notebook (alongside future ones) is an educational exercise to build intuitions in the following way:\n",
    "\n",
    "1. What kinds of computations are easy or hard for modern transformer models to do?\n",
    "2. If we hand design a model and then traditionally train the same model, do the resulting models operating in a similar way?\n",
    "3. If they aren't the same -- what changes could we make to bring them closer? \n",
    "   - Are there approaches that trained model can teach us? \n",
    "   - Are there ways to constrain the trained model?"
   ]
  },
  {
   "cell_type": "markdown",
   "id": "81315881-9e61-445e-b08a-e5a4135c3889",
   "metadata": {
    "tags": []
   },
   "source": [
    "## Quick Housekeeping\n",
    "\n",
    "This code relies on your usual combination of PyTorch, NumPy and matplotlib. First we'll import the right bits and then write a couple functions to plot 2-dimensional tensors visually as a grid where each cell represents a value in the tensor ranging from lowest (purple) to highest (yellow)."
   ]
  },
  {
   "cell_type": "code",
   "execution_count": null,
   "id": "bf4e37fa-8d59-4106-92d1-8f956647aba2",
   "metadata": {
    "colab": {
     "base_uri": "https://localhost:8080/"
    },
    "id": "bf4e37fa-8d59-4106-92d1-8f956647aba2",
    "outputId": "cc1c7a3d-b9ac-4656-b0ce-1fc9b8117ba2",
    "tags": [
     "hide-cell"
    ]
   },
   "outputs": [],
   "source": [
    "import torch\n",
    "import torch.nn.functional as F\n",
    "import math\n",
    "import torch.nn\n",
    "import matplotlib.pyplot as plt\n",
    "import numpy as np\n",
    "\n",
    "def plot_tensor(tensor):\n",
    "    fig, ax = plt.subplots()\n",
    "    im = ax.imshow(tensor.detach().cpu(), cmap='viridis')\n",
    "    plt.show()\n",
    "    \n",
    "def plot_tensor_array(tensor_list):\n",
    "    num_images = len(tensor_list)\n",
    "    plt.figure(figsize=(80, 20))\n",
    "    for idx, img in enumerate(tensor_list):\n",
    "        plt.subplot(1, num_images, idx + 1)\n",
    "        plt.grid(False)\n",
    "        plt.xticks([])\n",
    "        plt.yticks([])\n",
    "        plt.imshow(img, cmap='viridis')\n",
    "\n",
    "    plt.show()"
   ]
  },
  {
   "cell_type": "markdown",
   "id": "508c9940-cbbb-43cb-8a9a-9672337dc1fe",
   "metadata": {
    "tags": []
   },
   "source": [
    "# Our First Task: Addition\n",
    "\n",
    "It's a bit of a meme that \"language models can't do math.\" And while GPT4 etc is generally much better at this, let's do it with a _much_ smaller model.\n",
    "\n",
    "In this instance the sample data that the model is going to learn how to \"predict\" is generated with the following function:"
   ]
  },
  {
   "cell_type": "code",
   "execution_count": 2,
   "id": "780845fd-3998-4c0a-9d03-d6cc16ff5895",
   "metadata": {
    "colab": {
     "base_uri": "https://localhost:8080/",
     "height": 35
    },
    "id": "780845fd-3998-4c0a-9d03-d6cc16ff5895",
    "outputId": "9ed3b18d-539f-4779-8a3d-cee18e1ba78f"
   },
   "outputs": [
    {
     "data": {
      "text/plain": [
       "'    0188+ 0846=4301'"
      ]
     },
     "execution_count": 2,
     "metadata": {},
     "output_type": "execute_result"
    }
   ],
   "source": [
    "def random_addition():\n",
    "    # Random numbers from [0,999]\n",
    "    left = int(np.random.rand()*999)\n",
    "    right = int(np.random.rand()*999)\n",
    "\n",
    "    # Zero pad everything to 4 digits\n",
    "    out = str(left + right).zfill(4)[::-1] # The output is emitted lowest significant digit first (in reverse)\n",
    "    left = str(left).zfill(4)\n",
    "    right = str(right).zfill(4)\n",
    "    \n",
    "    # Generate 5 spaces randomly distributed between the left and right number\n",
    "    # This is largely to make training simpler later because all of our samples are of the same length\n",
    "    leftpadding = np.random.randint(0, 5)*' '\n",
    "    rightpadding = (5 - len(leftpadding))*' '\n",
    "    \n",
    "    return leftpadding + left + '+' + rightpadding + right + '=' + out\n",
    "    \n",
    "random_addition()"
   ]
  },
  {
   "cell_type": "markdown",
   "id": "e5c2476b-05db-4997-8386-1da7a37417d8",
   "metadata": {},
   "source": [
    "To make things easier, I’ve made some simplifying assumptions:\n",
    "\n",
    "1. **I pad numbers with zeroes up to 4 digits**\n",
    "This means I don’t have to “hallucinate” zeros at certain decimal places when summing numbers with different numbers of digits.\n",
    "2. **I don’t put any spaces to the left of `+` and `=`**\n",
    "This makes “finding” the least significant digit a bit easer\n",
    "3. **The digits are emitted in “reverse” order**\n",
    "This is analogous to how we learn to do things in grade school: right to left under the two numbers stacked on top of each other.\n",
    "\n",
    "With that set up, let's talk about how one can conceptualize building a transformer."
   ]
  },
  {
   "cell_type": "markdown",
   "id": "6557c5af-8398-4323-8da0-9e8bb6f66240",
   "metadata": {},
   "source": [
    "<a name=\"Transformers-as-Virtual-Machines\"></a>\n",
    "# Transformers as Virtual Machines\n",
    "\n",
    "Transformers are a class of neural network architectures that use what are called \"residual connections.\" What this means is that rather than each layer taking inputs and emitting entirely \"new\" outputs, the layers are instead configured to emit _updates_ against the inputs.\n",
    "\n",
    "So rather than\n",
    "\n",
    "```\n",
    "x = layer3(layer2(layer1(x)))\n",
    "```\n",
    "\n",
    "A \"residual\" configuration would be\n",
    "\n",
    "```\n",
    "x = layer1(x) + x\n",
    "x = layer2(x) + x\n",
    "x = layer3(x) + x\n",
    "```\n",
    "\n",
    "This was originally introduced in 2015 in ResNet to improve the training to and prevent issues with vanishing gradients. The nice thing about this _for our purposes_ is that in a residual network, the starting point for a layer that does nothing is a layer with all zeros as weights. In a traditionally deep network, we would need to design each layer to do whatever we intend _while also passing through any other state we don't care about_.\n",
    "\n",
    "Said another way, we can think of each layer as executing an instruction that mutates some specific state, like \"move some data from here to here.\" \n",
    "\n",
    "But where is \"here\" in this example? For this we need elaborate on how we construct our \"state\" (the `x` in the above explanations).\n",
    "\n",
    "<a name=\"Virtual-Machine-State\"></a>\n",
    "# Virtual Machine State\n",
    "\n",
    "In a transformer, the state that is passed between layers is a list of numbers of fixed length associated with each token. This might look something like this (all the numbers are made up)\n",
    "\n",
    "| Token | 0   | 1   | 2   | 3   |\n",
    "|-------|-----|-----|-----|-----|\n",
    "| I     | 0.9 | 0.1 | 0.2 | 0.1 |\n",
    "| Love  | 0.1 | 0.4 | 0.3 | 0.1 |\n",
    "| You   | 0.5 | 0.3 | 0.4 | 0.2 |\n",
    "\n",
    "In a traditional network, the significance of certain numbers in certain positions are \"learned.\" In our context, we're going to define what they mean in terms of \"registers\" analogous to how computers conceptualize them. If you're not familiar with computer architecture, just think of a register as a labelled place in memory.\n",
    "\n",
    "In our use case, we'll need a number of different registers, for example:\n",
    "\n",
    "1. A register representing the value of a token (i.e. which number or symbol is this token?)\n",
    "2. A register representing the position of a token\n",
    "3. A register representing whether we're currently \"carrying a one\"\n",
    "\n",
    "**An important aside about \"superposition\"**\n",
    "\n",
    "In learned networks, one component, layer or state may be used for many different purposes. As an analogy, say you have a basket. You could put many things in it: bananas, eggs, etc. Without watching the basket while its in use, it's very difficult to know what the basket is used for. This is partly why learned networks are so darn hard to understand. In our engineered network, however, we are going to minimize this reuse. To stretch the metaphor, if we needed to move around eggs and bananas, we would define an egg-specific basket and a banana-specific basket.\n",
    "\n",
    "<a name=\"Virtual-Machine-Instructions\"></a>\n",
    "# Virtual Machine Instructions\n",
    "\n",
    "Transformers give us two major classes of instructions:\n",
    "\n",
    "**Attention Layers** - These layers allow us to update a token's state by merging state _from previous tokens_.\n",
    "   \n",
    "   If you haven't read other explanations of attention, the way this works is effectively as follows: \n",
    "   - A given token's state is used in combination with each other tokens' state to determine how **relevant** a given previous token is to given token's state.\n",
    "   - The states of all previous tokens are then weighted and summed according to their **relevance** \n",
    "   - Specific parts of the resulting summed state are added to the original token's state.\n",
    "\n",
    "Note that in a traditional transformer, you have multiple separate \"attention heads\" that perform attention across different selections of registers. I suspect this is mainly valuable because transformers need to learn many different algorithms in order to predict random text. Because we're building a single-purpose transformer, however, we only need one \"head\".\n",
    "   \n",
    "**Fully Connected Layers** - These layers allow us to update a token's state in some arbitrary way _based only on that token's own state_. \n",
    "\n",
    "   If you're not familiar with neural networks, here's the quick summary: each output is the result of weighting each input according to a specific set of weights and then summing them up. To a first order (meaning: this is a simplication) if the sum is less than zero, then the output is replaced with zero. This \"non-linearity\" allows us to mask out state that's not relevant and perform all sorts of \"general\" computation.\n",
    "   \n",
    "Alright, with all that \"theory\" out of the way, let's get coding.\n",
    "\n",
    "First, we'll define a register that has a name and a size. Later, we'll map each register to a location (i.e. offset) in the token state."
   ]
  },
  {
   "cell_type": "code",
   "execution_count": 3,
   "id": "073b19c6-eb38-4267-9051-05b4d7a9375a",
   "metadata": {
    "id": "0161596a-a60d-4d0f-87a2-f9d9e1f656d0"
   },
   "outputs": [],
   "source": [
    "class Register(object):\n",
    "    def __init__(self, name, size):\n",
    "        self.name = name\n",
    "        self.size = size\n",
    "        self.offset = None"
   ]
  },
  {
   "cell_type": "markdown",
   "id": "bd540c3d-d663-4806-a109-950fb1d33d25",
   "metadata": {},
   "source": [
    "Next, we'll construct our state. In a traditional model, the thing that one does after splitting up text into tokens is to map those tokens into state. This is called \"embedding\" the tokens into the model's representation. Often this mapping is learned through training.  In our case we'll explicitly design it:\n",
    "\n",
    "**Token Value:** Our token's value will be encoded as a \"one-hot\" register that has as many numbers as we have tokens. So let's say our tokens were 1, 2, 3, a, b, c, then the mapping might look like:\n",
    "\n",
    "\n",
    "| Token | 0 | 1 | 2 | 3 | 4 | 5 |\n",
    "|-------|---|---|---|---|---|---|\n",
    "| 1     | 1 | 0 | 0 | 0 | 0 | 0 |\n",
    "| 2     | 0 | 1 | 0 | 0 | 0 | 0 |\n",
    "| 3     | 0 | 0 | 1 | 0 | 0 | 0 |\n",
    "| a     | 0 | 0 | 0 | 1 | 0 | 0 |\n",
    "| b     | 0 | 0 | 0 | 0 | 1 | 0 |\n",
    "| c     | 0 | 0 | 0 | 0 | 0 | 1 |\n",
    "\n",
    "**Token Position:** Position is a bit more complicated. Modern transformers use all sort of different methods to store positional information in a token. You would be tempted to just store the index of the token in the string but that poses problems because in typical transformer models there is a lot of normalization where at various points you say \"take all the numbers in the state here and rescale them to be in the range 0 to 1.\" If you have a large number that represents an offset that is the biggest number, it'll be scaled down to 1 and no longer represent the position.\n",
    "\n",
    "A common approach to solving this is to use some form of trigonometry to store a rotated vector rather than an absolute number. So conceptually, imagine for the first token we store the X and Y coordinates of a unit vector rotated by 1 degree. For the second we store the X and Y coordinates of a unit vector rotated by 2 degrees, the 3rd token is for a 3 degree rotation, etc. This obviously has its limits (once strings get really long), but it'll do for our now. Notably, the positional coordinates are all between 0 and 1 (again, for sufficiently short strings).\n",
    "\n",
    "| Position | X         | Y         |\n",
    "|----------|-----------|-----------|\n",
    "| 1st      | cos(1deg) | sin(1deg) |\n",
    "| 2nd      | cos(2deg) | sin(2deg) |\n",
    "| 3rd      | cos(3deg) | sin(3deg) |\n",
    "\n",
    "The following code takes care of this initialization as well as:\n",
    "\n",
    "- Mapping a set of registers to offsets in the token state (a.k.a. residual stream)\n",
    "- Providing a method to read the final state and use the state from the last token to determine the last token."
   ]
  },
  {
   "cell_type": "code",
   "execution_count": 4,
   "id": "1b463a29-a9ce-4df3-97dc-56b5d66530ad",
   "metadata": {},
   "outputs": [],
   "source": [
    "class EmbeddedState(object):\n",
    "    def __init__(self, tokens: list[str], registers: list[Register]):\n",
    "        self.tokens = tokens\n",
    "        self.token_map = { t: i for i,t in enumerate(tokens) }\n",
    "        self.registers = registers\n",
    "        self.register_map = {}\n",
    "        self.register_size = 0\n",
    "        \n",
    "        if len(registers) == 0 or registers[0].name != 'pos':\n",
    "            raise Exception(\"First register must be 'pos'\") \n",
    "        \n",
    "        offset = len(tokens)\n",
    "        for reg in registers:\n",
    "            reg.offset = offset\n",
    "            offset += reg.size\n",
    "            self.register_size += reg.size\n",
    "            self.register_map[reg.name] = reg\n",
    "            \n",
    "        self.dim = len(tokens) + self.register_size\n",
    "\n",
    "    def tokenize(self, string: str):\n",
    "        return F.one_hot(torch.tensor([self.token_map[c] for c in string]), num_classes=len(self.tokens)).float()\n",
    "\n",
    "    def embed(self, sequence):\n",
    "        # We want to create additional space to store the registers\n",
    "        extension_tensor = torch.zeros(*sequence.shape[:-1], self.register_size)\n",
    "\n",
    "        # Encode position in the first extra embedding dimension\n",
    "        for i in range(sequence.shape[0]):\n",
    "            extension_tensor[i, 0] = math.sin(i*(2*math.pi)/100)\n",
    "            extension_tensor[i, 1] = math.cos(i*(2*math.pi)/100)\n",
    "\n",
    "        sequence = torch.cat((sequence, extension_tensor), dim=-1)\n",
    "\n",
    "        return sequence\n",
    "    \n",
    "    def predict(self, sequence):\n",
    "        return self.tokens[torch.argmax(sequence[-1,:len(self.tokens)])]"
   ]
  },
  {
   "cell_type": "markdown",
   "id": "b6a1994b-b9c6-4f73-8878-0707a0eb06b7",
   "metadata": {},
   "source": [
    "As a basic example of how this works, lets take '1+1=2' and \"embed\" this into our state, and then plot our state."
   ]
  },
  {
   "cell_type": "code",
   "execution_count": 5,
   "id": "2bd5985c-145c-42a0-a157-81b3b18ece3c",
   "metadata": {
    "id": "0161596a-a60d-4d0f-87a2-f9d9e1f656d0"
   },
   "outputs": [
    {
     "data": {
      "image/png": "[encoded data removed]",
      "text/plain": [
       "<Figure size 640x480 with 1 Axes>"
      ]
     },
     "metadata": {},
     "output_type": "display_data"
    }
   ],
   "source": [
    "tokens = list('0123456789+= \\n')\n",
    "pos = Register('pos', 2)\n",
    "\n",
    "embedding = EmbeddedState(tokens, [pos])\n",
    "plot_tensor(embedding.embed(embedding.tokenize('1+1=2')))"
   ]
  },
  {
   "cell_type": "markdown",
   "id": "fedeb711-de28-4cb2-a535-62448db1bc47",
   "metadata": {},
   "source": [
    "We'll be plotting graphs like these a lot so it's important to build an intution on how to read these:\n",
    "\n",
    "- Each square represents a value in a matrix. Yellow is the largest value, purple the lowest.\n",
    "- The rows are tokens.\n",
    "- The columns are registers.\n",
    "- The first 14 or so columns are part of the base 'token' register.\n",
    "- The last two columns (in this embedding) is the 'rotation' register.\n",
    "\n",
    "Next, we need to set up the base instruction classes for Attention and Fully Connected Layer. We'll start with the Attention Layer-based instructions and then moved on the fully connected layer instructions. It might not be obvious how these all fit together. We'll get there.\n",
    "\n",
    "<a name=\"Attention-Layers\"></a>\n",
    "## Attention Layers"
   ]
  },
  {
   "cell_type": "code",
   "execution_count": 6,
   "id": "32e6f20e-b09c-4223-a6f5-7e523fb17a6c",
   "metadata": {
    "id": "0161596a-a60d-4d0f-87a2-f9d9e1f656d0"
   },
   "outputs": [],
   "source": [
    "class AttentionLayer(torch.nn.Module):\n",
    "    def __init__(self, instruction):\n",
    "        super(AttentionLayer, self).__init__()\n",
    "        \n",
    "        self.key = torch.nn.Parameter(instruction.key)\n",
    "        self.value = torch.nn.Parameter(instruction.value)\n",
    "        self.query = torch.nn.Parameter(instruction.query)\n",
    "        \n",
    "        self.mask = instruction.mask\n",
    "        \n",
    "        self.softmax = torch.nn.Softmax(2)\n",
    "        \n",
    "    def forward(self, seq):\n",
    "        batch_size, seq_length, dim = seq.shape\n",
    "        \n",
    "        query = seq @ self.query\n",
    "        key = seq @ self.key\n",
    "        value = seq @ self.value\n",
    "\n",
    "        causal_mask = (torch.triu(torch.ones(seq_length, seq_length), diagonal=1)*-1e11).to(seq.device)\n",
    "        norm = np.sqrt(dim)\n",
    "        \n",
    "        kq = self.softmax(query @ key.transpose(-2, -1) / norm + causal_mask)\n",
    "        \n",
    "        s = (kq @ value) * self.mask\n",
    "        \n",
    "        return (seq + s)\n",
    "\n",
    "    def reset(self):\n",
    "        torch.nn.init.xavier_uniform_(self.key)\n",
    "        torch.nn.init.xavier_uniform_(self.query)\n",
    "        torch.nn.init.xavier_uniform_(self.value)"
   ]
  },
  {
   "cell_type": "markdown",
   "id": "7edd367e-c96e-4b12-ad5f-39c6866dc1fd",
   "metadata": {},
   "source": [
    "This is more or less a classic Self Attention layer implementation. If you're not familiar, a high level description (adapted to our \"Virtual Machine\" context is)\n",
    "\n",
    "1. The query weights specify what registers for a particular token we want to use to decide what other tokens are relevent.\n",
    "2. The key weights (key as in \"lookup index\", not \"lock\") modify the token state so that the query can index into the tokens appropriately and compute relevancy.\n",
    "3. With the key and query multiplied together we get a relevance score from each token to each other token. \n",
    "4. Because the goal of a model is to predict the next token, we need to force future relevant tokens to be irrelevant, otherwise the model would just learn that the next token... is the one after the current one. This is the \"causal mask\" from above.\n",
    "5. Next, we reweight the relevence scores per token to sum to one using softmax.\n",
    "6. Finally, we use value weights to select which registers we want to add to our state from each token and then use the relevance scores to mix these registers together.\n",
    "\n",
    "A subtle thing to note here is that this process is run in parallel for each token.\n",
    "\n",
    "_Note: one unique thing that I've modified versus the standard implementation is that I've created a \"mask\" at the end that if configured only allows the layer to update a specific set of registers. This is not all that useful when using engineered weights, but can be used to reduce superposition when we train things later._\n",
    "\n",
    "Now let's use this to create our first instruction:\n",
    "\n",
    "### Find and Store\n",
    "\n",
    "Find and store is a layer that stores the position of a particular token in a particular register. To do this, we set up our weights as follows:\n",
    "\n",
    "- **key** - This is just the identity matrix, we don't need anything fancy.\n",
    "- **query** - This is a matrix that rewards having the one-hot index related to your token and penalizes everything else.\n",
    "- **value** - This matrix takes the position register from the relevant token and moves it to the specified output register"
   ]
  },
  {
   "cell_type": "code",
   "execution_count": 7,
   "id": "5cb66796-c95b-4248-85fc-ba7f8da81aa7",
   "metadata": {},
   "outputs": [],
   "source": [
    "class FindAndStore(AttentionLayer):\n",
    "    def __init__(self, embedding: EmbeddedState, token: str, register: Register):\n",
    "        pos_reg = embedding.register_map['pos']\n",
    "        \n",
    "        # No matter the current token, we attend to if the attended token is the given token\n",
    "        token_select = torch.zeros(embedding.dim, embedding.dim)\n",
    "        token_select[0:len(embedding.tokens), 0:len(embedding.tokens)] -= 1e10\n",
    "        token_select[0:len(embedding.tokens), int(embedding.token_map[token])] = 1e10\n",
    "\n",
    "        position_select = torch.zeros(embedding.dim, embedding.dim)\n",
    "        position_select[pos_reg.offset, register.offset] = 1.0\n",
    "        position_select[pos_reg.offset + 1, register.offset + 1] = 1.0\n",
    "        \n",
    "        self.key = torch.eye(embedding.dim)\n",
    "        self.query = token_select\n",
    "        self.value = position_select    \n",
    "        \n",
    "        self.mask = torch.zeros(embedding.dim)\n",
    "        self.mask[register.offset:register.offset + register.size] = 1.0\n",
    "        \n",
    "        super(FindAndStore, self).__init__(self)"
   ]
  },
  {
   "cell_type": "markdown",
   "id": "ee10c9ac-b473-4c51-b801-417453e162cd",
   "metadata": {},
   "source": [
    "Let's break this down a bit with an example of using this layer to find and store the position of the plus sign"
   ]
  },
  {
   "cell_type": "code",
   "execution_count": 8,
   "id": "447d20b6-0e16-4c5d-96af-dd7739d6a7ac",
   "metadata": {},
   "outputs": [],
   "source": [
    "tokens = list('0123456789+= \\n')\n",
    "pos = Register('pos', 2)\n",
    "plus_pos = Register('plus', 2)\n",
    "\n",
    "embedding = EmbeddedState(tokens, [pos, plus_pos])\n",
    "find_and_store = FindAndStore(embedding, '+', plus_pos)"
   ]
  },
  {
   "cell_type": "markdown",
   "id": "e6f1adc3-d814-466c-be3e-f69b8d1d2414",
   "metadata": {},
   "source": [
    "First we'll plot the (non-identity) weights"
   ]
  },
  {
   "cell_type": "code",
   "execution_count": 9,
   "id": "2aacf53e-e797-4f71-bc2c-4933131c9f0c",
   "metadata": {},
   "outputs": [
    {
     "data": {
      "image/png": "[encoded data removed]",
      "text/plain": [
       "<Figure size 640x480 with 1 Axes>"
      ]
     },
     "metadata": {},
     "output_type": "display_data"
    },
    {
     "data": {
      "image/png": "[encoded data removed]",
      "text/plain": [
       "<Figure size 640x480 with 1 Axes>"
      ]
     },
     "metadata": {},
     "output_type": "display_data"
    }
   ],
   "source": [
    "plot_tensor(find_and_store.query)\n",
    "plot_tensor(find_and_store.value)"
   ]
  },
  {
   "cell_type": "markdown",
   "id": "7e78ec89-4e7e-47fb-bce6-7b1e099eff70",
   "metadata": {},
   "source": [
    "For the query, regardless of the source token, we're looking for a token that has the 11th column (representing plus) lit up.\n",
    "\n",
    "For the value, we're simply moving whatever is in the 14th and 15th columns of the relevant token into the 16th and 17th columns of the output token.\n",
    "\n",
    "Next, let's look at what the relevant from one token is to another in our simple \"1+1=2\" example"
   ]
  },
  {
   "cell_type": "code",
   "execution_count": 10,
   "id": "d02e773b-f5b6-4a57-b7b2-50a9c223dde1",
   "metadata": {},
   "outputs": [
    {
     "data": {
      "image/png": "[encoded data removed]",
      "text/plain": [
       "<Figure size 640x480 with 1 Axes>"
      ]
     },
     "metadata": {},
     "output_type": "display_data"
    },
    {
     "data": {
      "image/png": "[encoded data removed]",
      "text/plain": [
       "<Figure size 640x480 with 1 Axes>"
      ]
     },
     "metadata": {},
     "output_type": "display_data"
    }
   ],
   "source": [
    "example = embedding.embed(embedding.tokenize('1+1=2'))\n",
    "plot_tensor(example)\n",
    "\n",
    "# For simplicity, I've pulled out the core math from that layer\n",
    "plot_tensor(torch.nn.Softmax(1)(((example @ find_and_store.query) @ (example @ find_and_store.key).T) + torch.triu(torch.ones(5, 5), diagonal=1)*-1e11))"
   ]
  },
  {
   "cell_type": "markdown",
   "id": "9f6d81a9-13aa-43b7-aef9-fc6732347b69",
   "metadata": {},
   "source": [
    "As we would expect,  all* tokens find the 3rd token most relevant... which is where the plus sign is.\n",
    "\n",
    "\\*You'll note that tokens before the plus sign are...confused. This is because the causal mask has prevented these tokens from \"seeing\" the tokens in the future.\n",
    "\n",
    "Now let's look at the full layer in action:"
   ]
  },
  {
   "cell_type": "code",
   "execution_count": 11,
   "id": "9ff69bfa-0346-498d-8344-a511330ea6e5",
   "metadata": {},
   "outputs": [
    {
     "data": {
      "image/png": "[encoded data removed]",
      "text/plain": [
       "<Figure size 640x480 with 1 Axes>"
      ]
     },
     "metadata": {},
     "output_type": "display_data"
    }
   ],
   "source": [
    "# There's a little bit of extra work to put the example in a batch of size 1 and then take it out\n",
    "plot_tensor(find_and_store.forward(example.unsqueeze(0))[0])"
   ]
  },
  {
   "cell_type": "markdown",
   "id": "3f06889e-5061-4181-b882-d77cd8ba9a96",
   "metadata": {},
   "source": [
    "As we hoped, the position of the plus sign is now stored in a new register for each token (at or after the plus sign)!\n",
    "\n",
    "On to the next instruction.\n",
    "\n",
    "### Get Relative Token\n",
    "\n",
    "This retrieves a token at an specified offset from the position in a specific register and copies it to an output register.\n",
    "\n",
    "- **key** - A matrix that masks out everything but the position of the token\n",
    "- **query** - A rotation matrix that rotates the point (position) in the given register by a specified amount\n",
    "- **value** - A matrix that moves the token's value for the relevant token to a specified out register"
   ]
  },
  {
   "cell_type": "code",
   "execution_count": 14,
   "id": "fcb86bca-cd49-4216-9e94-3702721d98f4",
   "metadata": {},
   "outputs": [],
   "source": [
    "class GetRelativeToken(AttentionLayer):\n",
    "    def __init__(self, embedding: EmbeddedState, pos_reg: Register, steps: int, out: Register):\n",
    "        tpos_reg = embedding.register_map['pos']\n",
    "        \n",
    "        position_select = torch.zeros(embedding.dim, embedding.dim)\n",
    "        position_select[tpos_reg.offset, tpos_reg.offset] = 1e10\n",
    "        position_select[tpos_reg.offset + 1, tpos_reg.offset + 1] = 1e10\n",
    "\n",
    "        i = -steps\n",
    "        sin = math.sin(i*(2*math.pi)/100)*1\n",
    "        cos = math.cos(i*(2*math.pi)/100)*1\n",
    "\n",
    "        rotation = torch.zeros(embedding.dim, embedding.dim)\n",
    "        rotation[pos_reg.offset, tpos_reg.offset] = cos\n",
    "        rotation[pos_reg.offset + 1, tpos_reg.offset] = -sin\n",
    "        rotation[pos_reg.offset, tpos_reg.offset + 1] = sin\n",
    "        rotation[pos_reg.offset + 1, tpos_reg.offset + 1] = cos\n",
    "        \n",
    "        token_copy = torch.zeros(embedding.dim, embedding.dim)\n",
    "        for i in range(len(embedding.tokens)):\n",
    "            token_copy[i, i + out.offset] = 1.0\n",
    "            \n",
    "        self.query = rotation\n",
    "        self.key = position_select\n",
    "        self.value = token_copy\n",
    "        \n",
    "        self.mask = torch.zeros(embedding.dim)\n",
    "        self.mask[out.offset:out.offset + out.size] = 1.0\n",
    "                \n",
    "        super(GetRelativeToken, self).__init__(self)"
   ]
  },
  {
   "cell_type": "markdown",
   "id": "770e57f8-e98a-45fd-8705-4429ff836525",
   "metadata": {},
   "source": [
    "Now, here's a demonstration of using this layer to get the token before the current one."
   ]
  },
  {
   "cell_type": "code",
   "execution_count": 15,
   "id": "7f45d960-cd8f-4c33-b28a-556f26d2e400",
   "metadata": {},
   "outputs": [
    {
     "data": {
      "image/png": "[encoded data removed]",
      "text/plain": [
       "<Figure size 640x480 with 1 Axes>"
      ]
     },
     "metadata": {},
     "output_type": "display_data"
    }
   ],
   "source": [
    "tokens = list('0123456789+= \\n')\n",
    "pos = Register('pos', 2)\n",
    "prev = Register('prev', len(tokens))\n",
    "\n",
    "embedding = EmbeddedState(tokens, [pos, prev])\n",
    "get_relative = GetRelativeToken(embedding, pos, -1, prev)\n",
    "\n",
    "example = embedding.embed(embedding.tokenize('1+1=2'))\n",
    "plot_tensor(get_relative.forward(example.unsqueeze(0))[0])"
   ]
  },
  {
   "cell_type": "markdown",
   "id": "7463842a-4b7d-446b-ac7a-59bfc787994f",
   "metadata": {},
   "source": [
    "As you can see, the tokens on the right are the original tokens shifted forward by one step.\n",
    "\n",
    "This turns out to be the last attention-based instruction we need. \n",
    "\n",
    "<a name=\"Fully-Connected-Layers\"></a>\n",
    "## Fully Connected Layers\n",
    "\n",
    "The remaining instructions are much more traditional fully connected layers. Another name for this is \"Multi Layer Perceptron\" which I've used to name the base class (it sounds fancy).\n",
    "\n",
    "In GPT-class models, the fully connected pieces first use a layer that maps the token state to something 4x wider, adds a bias, passes things through a GELU activation function and then maps these dimensions back down to the original token state size (again, with a bias). It turns out we generally don't need 4x the width for our purposes so I leave it up to the instruction to choose how wide or narrow the intermediate layer is."
   ]
  },
  {
   "cell_type": "code",
   "execution_count": 16,
   "id": "4d1e3ca5-67da-4b91-a1ee-17f724270f9a",
   "metadata": {
    "id": "0161596a-a60d-4d0f-87a2-f9d9e1f656d0"
   },
   "outputs": [],
   "source": [
    "class MLPLayer(torch.nn.Module):\n",
    "    def __init__(self, instruction, debug=False):\n",
    "        super(MLPLayer, self).__init__()\n",
    "        self.debug = debug\n",
    "        \n",
    "        self.first_weights = torch.nn.Parameter(instruction.first_weights)\n",
    "        self.first_bias = torch.nn.Parameter(instruction.first_bias)\n",
    "        self.second_weights = torch.nn.Parameter(instruction.second_weights)\n",
    "        self.second_bias = torch.nn.Parameter(instruction.second_bias)\n",
    "        \n",
    "        self.gelu = torch.nn.GELU()\n",
    "        \n",
    "        self.mask = instruction.mask\n",
    "        \n",
    "    def forward(self, seq):\n",
    "        a = self.gelu(seq @ self.first_weights + self.first_bias)\n",
    "        if self.debug:\n",
    "            plot_tensor(a)\n",
    "        b = (a @ self.second_weights)\n",
    "        if self.debug:\n",
    "            plot_tensor(b)\n",
    "        x = b + self.second_bias\n",
    "        if self.debug:\n",
    "            plot_tensor(x)\n",
    "        return seq + (x * self.mask)\n",
    "\n",
    "    def reset(self):\n",
    "        torch.nn.init.xavier_uniform_(self.first_weights)\n",
    "        torch.nn.init.zeros_(self.first_bias)\n",
    "        torch.nn.init.xavier_uniform_(self.second_weights)\n",
    "        torch.nn.init.zeros_(self.second_bias)"
   ]
  },
  {
   "cell_type": "markdown",
   "id": "cf2aca21-65be-4f75-b135-0f154462b453",
   "metadata": {},
   "source": [
    "Now, let's start with an easy example of a fully connected layer to clear out a register\n",
    "\n",
    "### Clear\n",
    "\n",
    "This layer simply:\n",
    "- Scales up the register(s) in question to avoid the nonlinearies around 0\n",
    "- Passes ths through the activation layer unharmed\n",
    "- Scales things back down and flips the sign so that when the layer's output is added to the state the relevant registers go to zero\n",
    "\n",
    "To be frank: this is kind of a painful way to clear a register. Ideally one could just skip the activation function entirely, but in the spirit of keeping things analogous to real transformers we work around them instead.\n"
   ]
  },
  {
   "cell_type": "code",
   "execution_count": 18,
   "id": "76442f95-5353-4b82-871f-76bb3c098cc5",
   "metadata": {},
   "outputs": [],
   "source": [
    "class Clear(MLPLayer):\n",
    "    def __init__(self, embedding: EmbeddedState, registers: list[Register]):\n",
    "        self.first_weights = torch.zeros(embedding.dim, embedding.dim)\n",
    "        self.first_bias = torch.zeros(embedding.dim)\n",
    "        \n",
    "        for reg in registers:\n",
    "            for i in range(reg.size):\n",
    "                self.first_weights[reg.offset + i, reg.offset + i] = 100.0\n",
    "        \n",
    "        self.second_weights = torch.zeros(embedding.dim, embedding.dim)\n",
    "        self.second_bias = torch.zeros(embedding.dim)\n",
    "        for reg in registers:\n",
    "            for i in range(reg.size):\n",
    "                self.second_weights[reg.offset + i, reg.offset + i] = -0.01\n",
    "    \n",
    "        self.mask = torch.zeros(embedding.dim)\n",
    "        for reg in registers:\n",
    "            self.mask[reg.offset:reg.offset + reg.size] = 1.0\n",
    "        \n",
    "        super(Clear, self).__init__(self)"
   ]
  },
  {
   "cell_type": "markdown",
   "id": "49e2181b-719d-43f9-b980-964b66e19eab",
   "metadata": {},
   "source": [
    "As an example:"
   ]
  },
  {
   "cell_type": "code",
   "execution_count": 19,
   "id": "b28c9e11-4837-45a4-a788-939235018a4a",
   "metadata": {},
   "outputs": [
    {
     "data": {
      "image/png": "[encoded data removed]",
      "text/plain": [
       "<Figure size 640x480 with 1 Axes>"
      ]
     },
     "metadata": {},
     "output_type": "display_data"
    }
   ],
   "source": [
    "tokens = list('0123456789+= \\n')\n",
    "pos = Register('pos', 2)\n",
    "\n",
    "embedding = EmbeddedState(tokens, [pos])\n",
    "clear = Clear(embedding, [pos])\n",
    "example = embedding.embed(embedding.tokenize('1+1=2'))\n",
    "plot_tensor(clear.forward(example.unsqueeze(0))[0])"
   ]
  },
  {
   "cell_type": "markdown",
   "id": "9f55944a-edd9-44f4-b0f2-f1b64e3cfbf1",
   "metadata": {},
   "source": [
    "No more position!\n",
    "\n",
    "Now that we're warmed up, we can take on the big kahuna...\n",
    "\n",
    "### Single Digit Add\n",
    "\n",
    "The goal of this \"instruction\" is to take two digits and a carry state and emit the output digit and then modify the carry state as appropriate.\n",
    "\n",
    "Multilayer networks can do a lot of different things, but in our case we use it as a form of key-value lookup. To do so, we compute every permutation of the left digit, right digit and carry state, then we create a neuron that takes the sum of the one-hot values (scaled up) and the carry state (or inverse carry state, depending on the context). If this exceeds some threshold then that neuron \"activates\" and outputs the correct resulting digit and carry state modifications."
   ]
  },
  {
   "cell_type": "code",
   "execution_count": 21,
   "id": "ea90d6ae-c93e-4bb5-8732-8d4f7ec6c3b6",
   "metadata": {},
   "outputs": [],
   "source": [
    "class SingleDigitAdd(MLPLayer):\n",
    "    def __init__(self, embedding: EmbeddedState, left_token: Register, right_token: Register, carry: Register, out_token: Register):\n",
    "        width = 10*10*2\n",
    "\n",
    "        self.first_weights = torch.zeros(embedding.dim, width)\n",
    "        self.first_bias = torch.zeros(width)\n",
    "        \n",
    "        self.second_weights = torch.zeros(width, embedding.dim)\n",
    "        self.second_bias = torch.zeros(embedding.dim)\n",
    "\n",
    "        idx = 0\n",
    "        for i in range(0, 10):\n",
    "            for j in range(0, 10):\n",
    "                self.first_weights[left_token.offset + i, idx] = 500\n",
    "                self.first_weights[right_token.offset + j, idx] = 500\n",
    "                self.first_weights[carry.offset, idx] = -1000\n",
    "                self.first_bias[idx] = -900\n",
    "                self.second_weights[idx, out_token.offset + (i + j) % 10] = 0.01\n",
    "                if (i + j) >= 10:\n",
    "                    self.second_weights[idx, carry.offset] = 0.01\n",
    "                idx += 1\n",
    "                \n",
    "                self.first_weights[left_token.offset + i, idx] = 333\n",
    "                self.first_weights[right_token.offset + j, idx] = 333\n",
    "                self.first_weights[carry.offset, idx] = 333\n",
    "                self.first_bias[idx] = -900\n",
    "                self.second_weights[idx, out_token.offset + (i + j + 1) % 10] = 0.01 * (1.0/0.99)\n",
    "                # If we need to carry, there was already a carry so we change nothing \n",
    "                if (i + j + 1) >= 10:\n",
    "                    self.second_weights[idx, carry.offset] = 0.0\n",
    "                # If we don't need to carry, we need to clear the carry bit,\n",
    "                else:\n",
    "                    self.second_weights[idx, carry.offset] = -0.01 * (1.0/0.99)\n",
    "                idx += 1\n",
    "                \n",
    "        self.mask = torch.zeros(embedding.dim)\n",
    "        self.mask[carry.offset:carry.offset + carry.size] = 1.0\n",
    "        self.mask[out_token.offset:out_token.offset + out_token.size] = 1.0\n",
    "                \n",
    "        super(SingleDigitAdd, self).__init__(self)"
   ]
  },
  {
   "cell_type": "markdown",
   "id": "4ed193fc-c963-4b60-8b57-1a4f39e5839b",
   "metadata": {},
   "source": [
    "This is a little complicated to demonstrate without all the other machinery, but to start you can see the weights (they're pretty!)"
   ]
  },
  {
   "cell_type": "code",
   "execution_count": 22,
   "id": "6a12b38f-b03a-4e73-b314-b31cf1114e8f",
   "metadata": {},
   "outputs": [
    {
     "data": {
      "image/png": "[encoded data removed]",
      "text/plain": [
       "<Figure size 640x480 with 1 Axes>"
      ]
     },
     "metadata": {},
     "output_type": "display_data"
    },
    {
     "data": {
      "image/png": "[encoded data removed]",
      "text/plain": [
       "<Figure size 640x480 with 1 Axes>"
      ]
     },
     "metadata": {},
     "output_type": "display_data"
    }
   ],
   "source": [
    "tokens = list('0123456789+= \\n')\n",
    "pos = Register('pos', 2)\n",
    "left = Register('left', len(tokens))\n",
    "right = Register('right', len(tokens))\n",
    "out = Register('out', len(tokens))\n",
    "carry = Register('carry', len(tokens))\n",
    "\n",
    "embedding = EmbeddedState(tokens, [pos, left, right, out, carry])\n",
    "single_digit_add = SingleDigitAdd(embedding, left, right, carry, out)\n",
    "\n",
    "plot_tensor(single_digit_add.first_weights)\n",
    "plot_tensor(single_digit_add.second_weights)"
   ]
  },
  {
   "cell_type": "markdown",
   "id": "004b11ca-7c70-4362-b78e-9a4d42c367ba",
   "metadata": {},
   "source": [
    "The remaining instructions are fairly specific to our use case. The next two in particular are intended to be used in tandem to determine if two positions are the same.\n",
    "\n",
    "### Diff Position\n",
    "\n",
    "This returns a \"difference\" between two positions. The reason \"difference\" is in quotes is because I have yet to figure out how to use one position to rotate another position (in order to compute a difference) so this is a crude approximation that effectively computes:\n",
    "\n",
    "```\n",
    "z1 = activation(100*x1 + 1000*y1 - x2*100 - y2*1000)\n",
    "z2 = activation(100*x2 + 1000*y2 - x1*100 - y1*1000)\n",
    "out = z1 + z2\n",
    "```\n",
    "\n",
    "The reason we do this twice with different signs is so that the activation function doesn't zero out the difference of one if its negative. The resulting unit is not meaningful, but we really only care that things are nonzero."
   ]
  },
  {
   "cell_type": "code",
   "execution_count": 23,
   "id": "e0e68d02-974e-4a58-b8d1-9cd731e53922",
   "metadata": {},
   "outputs": [],
   "source": [
    "class DiffPos(MLPLayer):\n",
    "    def __init__(self, embedding: EmbeddedState, left_pos: Register, right_pos: Register, distance: Register):\n",
    "        self.first_weights = torch.zeros(embedding.dim, 2)\n",
    "        self.first_bias = torch.zeros(2)\n",
    "        \n",
    "        # Note: it's important that the x and y are multiplied by different numbers,\n",
    "        # otherwise 1, 2 computes to be the same as 2, 1\n",
    "        \n",
    "        self.first_weights[left_pos.offset, 0] = 1e2\n",
    "        self.first_weights[left_pos.offset + 1, 0] = 1e3\n",
    "        self.first_weights[right_pos.offset, 0] = -1e2\n",
    "        self.first_weights[right_pos.offset + 1, 0] = -1e3\n",
    "        \n",
    "        self.first_weights[left_pos.offset, 1] = -1e2\n",
    "        self.first_weights[left_pos.offset + 1, 1] = -1e3\n",
    "        self.first_weights[right_pos.offset, 1] = 1e2\n",
    "        self.first_weights[right_pos.offset + 1, 1] = 1e3\n",
    "        \n",
    "        self.second_weights = torch.zeros(2, embedding.dim)\n",
    "        self.second_bias = torch.zeros(embedding.dim)\n",
    "        \n",
    "        self.second_weights[0, distance.offset] = 1.0\n",
    "        self.second_weights[1, distance.offset] = 1.0\n",
    "        \n",
    "        self.mask = torch.zeros(embedding.dim)\n",
    "        self.mask[distance.offset:distance.offset + distance.size] = 1.0 \n",
    "        \n",
    "        super(DiffPos, self).__init__(self)"
   ]
  },
  {
   "cell_type": "markdown",
   "id": "6c1ab92e-a9d8-48e7-b310-bee66a5ed395",
   "metadata": {},
   "source": [
    "For brevity we'll skip the demonstration and move on to \n",
    "\n",
    "### Is Zero\n",
    "\n",
    "This instruction performs the following calculation to determine if a register is approximately zero and replace the register with the outcome:\n",
    "\n",
    "```\n",
    "z1 = activation(-100*x + 10)\n",
    "z2 = activation(x)\n",
    "out = 0.1*z1 - z2\n",
    "```\n",
    "\n",
    "Since this is used in tandem with the previous layer we know that x is positive. The output of the first neuron is used to make sure that the input is between 0 and 0.1 (which counts as close enough to zero). The second neuron is used to store the original input so we can later flip it and use it to zero out the input register and replace it with the scaled down output from the first neuron."
   ]
  },
  {
   "cell_type": "code",
   "execution_count": 25,
   "id": "c91779dc-afbe-44a0-a2ca-36cc86ba22a8",
   "metadata": {},
   "outputs": [],
   "source": [
    "class IsZero(MLPLayer):\n",
    "    def __init__(self, embedding: EmbeddedState, zero: Register):\n",
    "        self.first_weights = torch.zeros(embedding.dim, 2)\n",
    "        self.first_bias = torch.zeros(1)\n",
    "        \n",
    "        self.first_weights[zero.offset, 0] = -100.0\n",
    "        self.first_weights[zero.offset, 1] = 1.0\n",
    "        self.first_bias[0] = 10.0\n",
    "        \n",
    "        self.second_weights = torch.zeros(2, embedding.dim)\n",
    "        self.second_bias = torch.zeros(embedding.dim)\n",
    "        \n",
    "        self.second_weights[0, zero.offset] = 0.1\n",
    "        self.second_weights[1, zero.offset] = -1.0\n",
    "        self.second_bias[zero.offset] = 10.0\n",
    "        \n",
    "        self.mask = torch.zeros(embedding.dim)\n",
    "        self.mask[zero.offset:zero.offset + zero.size] = 1.0 \n",
    "        \n",
    "        super(IsZero, self).__init__(self)"
   ]
  },
  {
   "cell_type": "markdown",
   "id": "3a9fa038-3391-44a4-bc61-7caa4a76a235",
   "metadata": {},
   "source": [
    "Second to last, we have\n",
    "\n",
    "### Copy on Match\n",
    "\n",
    "The function of this layer is to move one register to another if the match register is one. The way this works is that for every column of the source register, we multiply it by 100 and add it to the match register times 100. We then subtract 190 and pass it through activation before scaling it down. This way, the output to the destination register is only non-zero _**if both**_ the match is positive and non-zero **and** the particular token column is nonzero."
   ]
  },
  {
   "cell_type": "code",
   "execution_count": 26,
   "id": "84631c7e-7283-4e90-a5dc-8e5d5f897f0b",
   "metadata": {
    "id": "0161596a-a60d-4d0f-87a2-f9d9e1f656d0"
   },
   "outputs": [],
   "source": [
    "class CopyOnMatch(MLPLayer):\n",
    "    def __init__(self, embedding: EmbeddedState, match: Register, src: Register, dst: Register):\n",
    "        self.first_weights = torch.zeros(embedding.dim, src.size)\n",
    "        self.first_bias = torch.ones(src.size)\n",
    "        \n",
    "        for i in range(src.size):\n",
    "            self.first_weights[match.offset, i] = 100\n",
    "            self.first_weights[src.offset + i, i] = 100\n",
    "            self.first_bias[i] = -190\n",
    "        \n",
    "        self.second_weights = torch.zeros(src.size, embedding.dim)\n",
    "        self.second_bias = torch.zeros(embedding.dim)\n",
    "        \n",
    "        for i in range(src.size):\n",
    "            self.second_weights[i, dst.offset + i] = 0.1\n",
    "            \n",
    "        self.mask = torch.zeros(embedding.dim)\n",
    "        self.mask[dst.offset:dst.offset + dst.size] = 1.0\n",
    "            \n",
    "        super(CopyOnMatch, self).__init__(self)"
   ]
  },
  {
   "cell_type": "markdown",
   "id": "c4bf5ad3-3af5-461f-9006-32faa46f31cd",
   "metadata": {},
   "source": [
    "And with that we've got our final fully connected instruction left:\n",
    "\n",
    "### Step Position\n",
    "\n",
    "This one is a little bit easier on the mind: it just moves a particular position register forward or backward a fixed number of steps. It does this with a 2d rotation matrix and then adds a whole bunch of bias to make sure the activation function doesn't mess with the position. After the activation it then removes this bias."
   ]
  },
  {
   "cell_type": "code",
   "execution_count": 27,
   "id": "4bbd6db5-6a1c-4274-a5cf-489e1d7a13f2",
   "metadata": {
    "id": "0161596a-a60d-4d0f-87a2-f9d9e1f656d0"
   },
   "outputs": [],
   "source": [
    "class StepPosition(MLPLayer):\n",
    "    def __init__(self, embedding: EmbeddedState, positions: list[Register], offsets: list[Register]):\n",
    "\n",
    "        rotation = torch.zeros(embedding.dim, embedding.dim)\n",
    "        \n",
    "        n = 0\n",
    "        for reg in positions:\n",
    "            i = offsets[n]\n",
    "            sin = math.sin(-i*(2*math.pi)/100)*1\n",
    "            cos = math.cos(-i*(2*math.pi)/100)*1\n",
    "        \n",
    "            rotation[reg.offset, reg.offset] = cos - 1\n",
    "            rotation[reg.offset + 1, reg.offset] = -sin\n",
    "            rotation[reg.offset, reg.offset + 1] = sin\n",
    "            rotation[reg.offset + 1, reg.offset + 1] = cos - 1\n",
    "            \n",
    "            n += 1\n",
    "\n",
    "        self.first_weights = rotation\n",
    "        self.first_bias = torch.ones(embedding.dim)*1000\n",
    "        \n",
    "        self.second_weights = torch.eye(embedding.dim, embedding.dim)\n",
    "        self.second_bias = torch.ones(embedding.dim)*-1000\n",
    "        \n",
    "        self.mask = torch.zeros(embedding.dim)\n",
    "        for p in positions:\n",
    "            self.mask[p.offset:p.offset + p.size] = 1.0\n",
    "        \n",
    "        super(StepPosition, self).__init__(self)"
   ]
  },
  {
   "cell_type": "markdown",
   "id": "393dcae0-a63a-435a-b12b-9be69cd40581",
   "metadata": {},
   "source": [
    "<a name=\"Our-First-Algorithm\"></a>\n",
    "# Our First Algorithm\n",
    "\n",
    "One of the things you quickly realize when trying to engineer a transformer is that **in order to perform complex computation between tokens, you generally need to copy state from one token to another token**. \n",
    "\n",
    "As an example, in order to add the first digit of the left operand to the first digit of the right operand, it's easiest to move the value of each token into a single token before you can consider both against each other.\n",
    "\n",
    "The second thing you realize is that **only the last token's state \"matters\"** in the end because it's what is used to generate the next token.\n",
    "\n",
    "Given this, our first naive approach is as follows (from the perspective of each individual token):\n",
    "\n",
    "- Find and store the position of the plus sign in a 'left_cursor' register\n",
    "- Find and store the position of the equal sign in a 'right_cursor' register\n",
    "- Find and store the position of the equal sign in an 'out_cursor' register\n",
    "- Increment the position of the 'out_cursor' register by one position\n",
    "- For each digit we want to add (4 in our case):\n",
    "  - Clear registers that store any previously used 'left', 'right' and 'out' digits\n",
    "  - Move the left and right cursor one token to the left. Move the out cursor one token to the right.\n",
    "  - Copy the tokens specified at the left and right cursors into left and right token registers.\n",
    "  - Perform single digit addition, reading from the left and right token registers and a carry register, writing to an out token register.\n",
    "  - If the out cursor is pointing at the same position as the original token position, copy the out token to the final token\n",
    "- Finally, we take the output of the final_token and relocate it back to the original token position so it can be read as the next token to generate\n",
    "\n",
    "It might be counter intuitive that we need to keep track of a \"final\" token in additional to an \"out\" token. The reason for this is that each token actually does the whole addition (because every layer of the stack does the same operations). Given this, we need to keep track of when the out digit is referring to the token undergoing computation and if so save it off for later.\n",
    "\n",
    "A few important notes:\n",
    "- A traditional transformer alternates between attention layers and fully connected layers. This work uses what's needed when its needed. This is functionally equivalent, however, because layers can easily be ignored in a residual network.\n",
    "- *This is not an efficient algorithm.* It's the first algorithm I got to work.\n",
    "- *It intentionally does computation symbolically, rather than by converting numbers to activations.* This is because I wanted to approximate an implementation that was \"conceptual\" rather than mathematical.\n",
    "\n",
    "Now, let's put it all together!"
   ]
  },
  {
   "cell_type": "code",
   "execution_count": 32,
   "id": "87294c9c-0669-46ca-bf06-d9280a05d817",
   "metadata": {
    "id": "87294c9c-0669-46ca-bf06-d9280a05d817"
   },
   "outputs": [],
   "source": [
    "tokens = list('0123456789+= \\n')\n",
    "pos = Register('pos', 2)\n",
    "left_pos = Register('left_pos', 2)\n",
    "right_pos = Register('right_pos', 2)\n",
    "out_pos = Register('out_pos', 2)\n",
    "left_digit = Register('left', len(tokens))\n",
    "right_digit = Register('right', len(tokens))\n",
    "out_digit = Register('out', len(tokens))\n",
    "final_digit = Register('final', len(tokens))\n",
    "carry = Register('carry', 1)\n",
    "distance = Register('distance', 1)\n",
    "\n",
    "embedding = EmbeddedState(tokens, [pos, left_pos, right_pos, out_pos, left_digit, right_digit, out_digit, carry, distance, final_digit])\n",
    "\n",
    "class PaddedAddition(torch.nn.Module):\n",
    "    def __init__(self):\n",
    "        super(PaddedAddition, self).__init__()\n",
    "        self.debug = False\n",
    "\n",
    "        # Attention layer to search for the location of various tokens\n",
    "        self.find_plus = FindAndStore(embedding, '+', left_pos)\n",
    "        self.find_equal = FindAndStore(embedding, '=', right_pos)\n",
    "        self.find_out = FindAndStore(embedding, '=', out_pos)\n",
    "\n",
    "        # Fully connected layers to adjust positions by fixed amounts\n",
    "        self.step_out = StepPosition(embedding, [out_pos], [-1])\n",
    "        \n",
    "        # Note: I've unrolled this because I was concerned the reuse of weights would do weird things with\n",
    "        # backprop\n",
    "        self.clear_lro = Clear(embedding, [left_digit, right_digit, out_digit])\n",
    "        self.step_pos = StepPosition(embedding, [left_pos, right_pos, out_pos], [-1, -1, 1])\n",
    "        self.read_left = GetRelativeToken(embedding, left_pos, 0, left_digit)\n",
    "        self.read_right = GetRelativeToken(embedding, right_pos, 0, right_digit)\n",
    "        self.single_digit_add = SingleDigitAdd(embedding, left_digit, right_digit, carry, out_digit)\n",
    "        self.diff_pos = DiffPos(embedding, pos, out_pos, distance)\n",
    "        self.is_zero = IsZero(embedding, distance)\n",
    "        self.copy_out = CopyOnMatch(embedding, distance, out_digit, final_digit)\n",
    "\n",
    "        # Linear layer to move the final digit to the out digit\n",
    "        self.final_projection = torch.zeros(embedding.dim, final_digit.size)\n",
    "        for i in range(final_digit.size):\n",
    "            self.final_projection[final_digit.offset + i, i] = 1.0e6\n",
    "        self.final_projection = torch.nn.Parameter(self.final_projection)\n",
    "        \n",
    "        self.softmax = torch.nn.Softmax(1)\n",
    "\n",
    "    def generate(self, input_string):\n",
    "        x = embedding.embed(embedding.tokenize(input_string))\n",
    "        x = self(torch.unsqueeze(x, 0).to(self.final_projection.device))\n",
    "        return input_string + embedding.predict(x[0].detach())\n",
    "\n",
    "    def forward(self, x):\n",
    "        # Map here is a tensor that keeps track of the various activations through one\n",
    "        # auto-regressive pass\n",
    "        self.map = torch.zeros((x.shape[1] + 1)*9, embedding.dim)\n",
    "        s = 0\n",
    "        \n",
    "        if self.debug:\n",
    "            self.map[(x.shape[1] + 1)*s:(x.shape[1] + 1)*s + x.shape[1], :] = x[0] / torch.max(x[0])\n",
    "            s += 1\n",
    "\n",
    "        x = self.find_plus.forward(x)\n",
    "        \n",
    "        if self.debug:\n",
    "            self.map[(x.shape[1] + 1)*s:(x.shape[1] + 1)*s + x.shape[1], :] = x[0] / torch.max(x[0])\n",
    "            s += 1\n",
    "        \n",
    "        x = self.find_equal.forward(x)\n",
    "        \n",
    "        if self.debug:\n",
    "            self.map[(x.shape[1] + 1)*s:(x.shape[1] + 1)*s + x.shape[1], :] = x[0] / torch.max(x[0])\n",
    "            s += 1\n",
    "            \n",
    "        x = self.find_out.forward(x)\n",
    "        \n",
    "        if self.debug:\n",
    "            self.map[(x.shape[1] + 1)*s:(x.shape[1] + 1)*s + x.shape[1], :] = x[0] / torch.max(x[0])\n",
    "            s += 1\n",
    "            \n",
    "        x = self.step_out.forward(x)\n",
    "        \n",
    "        if self.debug:\n",
    "            self.map[(x.shape[1] + 1)*s:(x.shape[1] + 1)*s + x.shape[1], :] = x[0] / torch.max(x[0])\n",
    "            s += 1\n",
    "\n",
    "        for i in range(4):\n",
    "          x = self.clear_lro.forward(x)\n",
    "          x = self.step_pos.forward(x)\n",
    "          x = self.read_left.forward(x)\n",
    "          x = self.read_right.forward(x)\n",
    "          x = self.single_digit_add.forward(x)\n",
    "          x = self.diff_pos.forward(x)\n",
    "          x = self.is_zero.forward(x)\n",
    "          x = self.copy_out.forward(x)\n",
    "\n",
    "          if self.debug:\n",
    "            self.map[(x.shape[1] + 1)*s:(x.shape[1] + 1)*s + x.shape[1], :] = x[0] / torch.max(x[0])\n",
    "            s += 1\n",
    "            \n",
    "        x = x @ self.final_projection\n",
    "            \n",
    "        return x\n",
    "    \n",
    "    def reset(self):\n",
    "        torch.nn.init.xavier_uniform_(self.final_projection)\n",
    "        for child in self.children():\n",
    "            if hasattr(child, 'reset'):\n",
    "                child.reset()\n",
    "\n",
    "    def to(self, device):\n",
    "        super(PaddedAddition, self).to(device)\n",
    "        for child in self.children():\n",
    "            if hasattr(child, 'mask'):\n",
    "                child.mask = child.mask.to(device)"
   ]
  },
  {
   "cell_type": "markdown",
   "id": "3aca2003-f45b-4c6d-a8c1-0a25b968d0ef",
   "metadata": {},
   "source": [
    "Now, let's give it a go and see if it works! (It will)"
   ]
  },
  {
   "cell_type": "code",
   "execution_count": 39,
   "id": "7f58fd5f-e898-421a-b37b-7b901762919b",
   "metadata": {
    "colab": {
     "base_uri": "https://localhost:8080/",
     "height": 1000
    },
    "id": "7f58fd5f-e898-421a-b37b-7b901762919b",
    "outputId": "772caf06-1862-4eba-b21f-3a8c935d9384"
   },
   "outputs": [
    {
     "name": "stdout",
     "output_type": "stream",
     "text": [
      "Expected output:    0636+  0603=9321\n",
      "   0636+  0603=9\n",
      "   0636+  0603=93\n",
      "   0636+  0603=932\n",
      "   0636+  0603=9321\n"
     ]
    }
   ],
   "source": [
    "m = PaddedAddition()\n",
    "test = random_addition()\n",
    "print(\"Expected output:\", test)\n",
    "test = test.split('=')[0] + '='\n",
    "m.debug = True\n",
    "for i in range(4):\n",
    "    test = m.generate(test)\n",
    "    print(test)"
   ]
  },
  {
   "cell_type": "markdown",
   "id": "a7e5a4d0-534a-4458-9bf5-0a3e28fd30ad",
   "metadata": {},
   "source": [
    "Because I've turned on debug, we keep track of (some of) the states between layers / instructions."
   ]
  },
  {
   "cell_type": "code",
   "execution_count": 45,
   "id": "1a3b69c4-afc0-49e1-a26f-2aeb43052934",
   "metadata": {},
   "outputs": [
    {
     "data": {
      "image/png": "[encoded data removed]",
      "text/plain": [
       "<Figure size 8000x2000 with 1 Axes>"
      ]
     },
     "metadata": {},
     "output_type": "display_data"
    }
   ],
   "source": [
    "plot_tensor_array(m.map.unsqueeze(0).detach())"
   ]
  },
  {
   "cell_type": "markdown",
   "id": "3304a4dc-6d86-4496-806d-d178550e8ee7",
   "metadata": {},
   "source": [
    "Hopefully you recognize some parts of this from above, but to point out a few things explicitly:\n",
    "    \n",
    "- On the left we start with tokens and positions\n",
    "- Then we have a bank of cursors that point to where particular tokens are\n",
    "- After that we have tokens copied from relevant positions into local registers\n",
    "- Then we have the output token and the final token\n",
    "\n",
    "You'll note that all tokens at or after the equal sign have identical activations except for the final token. They're all performing the same computations!"
   ]
  },
  {
   "cell_type": "markdown",
   "id": "b2689b5f-b04c-4324-bd91-affc0bd6e67f",
   "metadata": {},
   "source": [
    "<a name=\"Reflections\"></a>\n",
    "# Reflections\n",
    "\n",
    "## Computational Capacity and Trainability\n",
    "\n",
    "There's a concept in information theory called \"information capacity\" that defines the maximum amount of information that can pass through a channel without error. The channel in this case is something like a wire or a radio wave that has certain loss characteristics and noise. There's a fundamental limit to how much information can move given these characteristics defined in what's known as the Shannon-Hartley Theorem. The specific details aren't relevant, but finding algorithms to _reach_ this theoretical limit has been the focus of extensive research orver decades. In that case, with coding schemes like Low Density Parity Check codes we can get _pretty close_.\n",
    "\n",
    "I find myself wanting for a similar framework in machine learning:\n",
    "\n",
    "1. Given a particular architecture, is a certain kind of capability theoretically computable given any possible weight configuration?\n",
    "2. Can we actually train a model from scratch to realize this capability?\n",
    "\n",
    "For this architecture, the answer to (2) is yes (to come in a later post), but I theorize that at smaller scales with modern methods (2) might start to extend beyond our reach. The intuition here is basically that the lottery ticket hypothesis is critical for working around local minima and as such requires massive overparameterization (that can later be pruned out).\n",
    "\n",
    "## Iteration\n",
    "\n",
    "The way in which long addition works is one in which we repeat the same step over and over again. Despite the fact that a Transformer generates one token after another, the computation itself is _not_ by default recursive. If you sat down to design an addition algorithm like I did you might think \"ok, I'm going to compute each digit one by one and then pass off the carry state to the model for it to compute the next token.\" The problem is: this is really hard!\n",
    "\n",
    "To make this a bit more obvious, here's a visual representation of the process by which we generate tokens:\n",
    "\n",
    "![Figure 1](https://github.com/newhouseb/handcrafted/blob/main/figure1.png?raw=true)\n",
    "\n",
    "The insight that this diagram (hopefully) provides is that if the model can learn to approximate relevant future state in a generated token, we can effectively utilize our \"instruction set\" recursively! To me, this is an interesting way to frame \"chain of thought\" reasoning. It's not just about working in smaller steps, it's giving the model access to massively more compute to solve the problem (if it can figure out how to pass context through tokens). In the literature, this is called \"giving the model a scratchpad.\"\n",
    "\n",
    "All that being said: for this experiment it was simplest to just duplicate the critical layers one time for each digit we expect to add. As a future exercise, it would be interesting to see if one could hand-design a model to add infinite digits by storing intermediate state in the token output. \n",
    "\n",
    "To make that a little more clear, you might design a model to emit a carry state after each digit that could then be read in, say by using a `!` to represent a carry and `_` to represent no carry:\n",
    "\n",
    "```\n",
    "  019+ 003=2!2_0_\n",
    "```\n",
    "\n",
    "## Multiplication And Rotation\n",
    "\n",
    "In this toy network we use a rotated vector to store position. This is for a couple reasons:\n",
    "\n",
    "- In traditional transformers there's a lot of normalization happening and if you used absolute values that happen to be the largest activation on a layer you would frequently find your positions are normalized out.\n",
    "- Rotated unit vectors provide an easy way to check equivalence because the dot product of unit vectors is 1 if they're the same and less if they're not. This is particularly useful when trying to pull out state from a specific token based on a position.\n",
    "\n",
    "The challenge comes when we want to rotate one state position by _another state position_ to compute a distance between tokens. \n",
    "\n",
    "As one example, each token after the `=` would ideally compute a distance from said `=` in order to know which decimal place a given token signifies (i.e. ones, tens, hundreds, etc). As compared to a fixed rotation against a part of the residual stream, a dynamic rotation requires performing multiplications with _multiple_ inputs from the residual stream.\n",
    "\n",
    "\"Aha\", you say, \"self-attention effectively performs 'self multiplication'!\" You would be correct. Immediately after, however, it runs everything through softmax which makes everything sum up to 1. I would imagine that there's some \"trick\" here that allows you to scale things back after the fact to their pre-normalized values... but I have yet to figure it out.\n",
    "\n",
    "It's worth acknowledging that multi-layer perceptrons are be able to approximate any function and could ostensibly be configured to approximate a dynamic rotation. That said, it feels like some form of non-normalized self-attention could be a very useful primitive to give to a model to learn.\n",
    "\n",
    "## Interpretability\n",
    "\n",
    "In writing all of this up, it's interesting to think about what current interpretability methods would \"reverse-engineer\" from this heavily engineered model. After all, what's behind this model is not \"some alien form of intelligence\" but rather a very human form of intelligence (me).\n",
    "\n",
    "A lot of interpretability approaches attempt to answer the question of \"what does this specific neuron\" do. In this model, finding meaning in a single weight would be a very hard without zooming way out. A much better approach (in this case) would be to figure out what the various columns in the token states represent between layers.\n",
    "\n",
    "Perhaps when evaluating interpretability methods it might make sense to evaluate them against models designed by human intelligence (to the extent that we can design models up to a certain scale).\n",
    "\n",
    "<a name=\"Further-Reading\"></a>\n",
    "# Further Reading\n",
    "\n",
    "A lot of people have been doing fantastic work in interpreting models and there's a few that I want to highlight as being particularly relevant or interesting to this work.\n",
    "\n",
    "## [Thinking Like Transformers](https://srush.github.io/raspy/) \n",
    "\n",
    "This work derives a \"language\" called RASP that abstracts away what's possible with transformers and uses it design programs to perform a variety of basic tasks like reversing a string. This is basically a much more academic version of the above from a few years ago before we were all on the transformer bandwagon.\n",
    "\n",
    "## [Learning Transformer Programs](https://arxiv.org/pdf/2306.01128.pdf)\n",
    "\n",
    "This one is hot off the press (as of this writing) but also ridiculously cool: they add constraints to transformer models to force \"hard\" attention that is more interpretable than typically learned algorithms. They can then \"decompile\" the learned weights into Python (!). The Python is not always interpretable but it's still super cool.\n",
    "\n",
    "## [Teaching Algorithmic Reasoning via In-Context Learning](https://arxiv.org/pdf/2211.09066.pdf)\n",
    "\n",
    "This is a fun paper that (among other things) teaches LLMs to add two numbers step by step by providing in-context demonstrations of long-hand addition. In-context \"learning\" is an interesting thing to think about given the above exploration: it's as if the model has \"learned\" to match previously executed instructions and re-execute them against later tokens.\n",
    "\n",
    "## [Transformer Circuits](https://transformer-circuits.pub/)\n",
    "\n",
    "This is the grandaddy of transformer interpretability work and is what got me so jazzed to do something like this in the first place. Start with \"A Mathematical Framework for Transformer Circuits.\""
   ]
  }
 ],
 "metadata": {
  "accelerator": "GPU",
  "colab": {
   "gpuType": "V100",
   "include_colab_link": true,
   "machine_shape": "hm",
   "provenance": []
  },
  "gpuClass": "standard",
  "kernelspec": {
   "display_name": "Python 3 (ipykernel)",
   "language": "python",
   "name": "python3"
  },
  "language_info": {
   "codemirror_mode": {
    "name": "ipython",
    "version": 3
   },
   "file_extension": ".py",
   "mimetype": "text/x-python",
   "name": "python",
   "nbconvert_exporter": "python",
   "pygments_lexer": "ipython3",
   "version": "3.9.13"
  }
 },
 "nbformat": 4,
 "nbformat_minor": 5
}
